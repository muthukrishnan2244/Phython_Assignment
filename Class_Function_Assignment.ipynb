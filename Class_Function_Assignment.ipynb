{
 "cells": [
  {
   "cell_type": "code",
   "execution_count": 53,
   "id": "87d4a9cf-63e2-4e10-ac59-dd67f798cde9",
   "metadata": {},
   "outputs": [],
   "source": [
    "class FunctionClassAssignment():\n",
    "    def subFields():\n",
    "        subLists=[\"Machine Learning\",\"Neural Networks\",\"Vision\",\"Robotics\",\"Speech Processing\",\"Natural Language Processing\"]\n",
    "        print(\"Sub-fields in AI are:\")\n",
    "        for list in subLists:\n",
    "            print(list)\n",
    "\n",
    "    def oddEven():\n",
    "        num = int(input(\"Enter the number\"))\n",
    "        if(num % 2 == 0):\n",
    "            print(num,\" is an even number\")\n",
    "        else:\n",
    "            print(num,\" is an odd number\")\n",
    "\n",
    "    def elegible():\n",
    "        age = int(input(\"Your age :\"))\n",
    "        gender = input(\"Your Gender :\")\n",
    "        if(age >= 18):\n",
    "            print(\"ELIGEABLE \")\n",
    "        else:\n",
    "            print(\"NOT ELIGIABLE\")\n",
    "\n",
    "    def percentage():\n",
    "        total = 0\n",
    "        subjectsMark = [34,76,98,89,100]\n",
    "        for index, mark in enumerate(subjectsMark):\n",
    "            print(f\"Subject {index + 1}: Mark = {mark}\")\n",
    "            total += mark \n",
    "        return total,\":\",total/len(subjectsMark)\n",
    "\n",
    "    def traingale():\n",
    "        height=int(input(\"Height:\"))\n",
    "        breadth=int(input(\"Breadth:\"))\n",
    "        print(\"Area formula:(height*breadth)/2\")\n",
    "        print(\"Area of Triangle:\",(height*breadth)/2)\n",
    "        print(\"Height1:\",height)\n",
    "        print(\"Height2\",height)\n",
    "        print(\"Breadth\",breadth)\n",
    "        print(\"Perimeter formula: Height1+Height2+Breadth\")\n",
    "        print(\"Perimeter of Triangle:\",height+height+breadth)"
   ]
  },
  {
   "cell_type": "code",
   "execution_count": 14,
   "id": "73454f1e-d194-4dd9-9114-09e87b7f1e9f",
   "metadata": {},
   "outputs": [
    {
     "name": "stdout",
     "output_type": "stream",
     "text": [
      "Sub-fields in AI are:\n",
      "Machine Learning\n",
      "Neural Networks\n",
      "Vision\n",
      "Robotics\n",
      "Speech Processing\n",
      "Natural Language Processing\n"
     ]
    }
   ],
   "source": [
    "FunctionClassAssignment.subFields()"
   ]
  },
  {
   "cell_type": "code",
   "execution_count": 15,
   "id": "35c0be8b-28fa-4903-b341-bb9a4b384e1e",
   "metadata": {},
   "outputs": [
    {
     "name": "stdin",
     "output_type": "stream",
     "text": [
      "Enter the number 33232\n"
     ]
    },
    {
     "name": "stdout",
     "output_type": "stream",
     "text": [
      "33232  is an even number\n"
     ]
    }
   ],
   "source": [
    "FunctionClassAssignment.oddEven()"
   ]
  },
  {
   "cell_type": "code",
   "execution_count": 20,
   "id": "657844fb-a38a-49b7-87f3-2d12150e5d59",
   "metadata": {},
   "outputs": [
    {
     "name": "stdin",
     "output_type": "stream",
     "text": [
      "Your age : 12\n",
      "Your Gender : MALE\n"
     ]
    },
    {
     "name": "stdout",
     "output_type": "stream",
     "text": [
      "NOT ELIGIABLE\n"
     ]
    }
   ],
   "source": [
    "FunctionClassAssignment.elegible()"
   ]
  },
  {
   "cell_type": "code",
   "execution_count": 50,
   "id": "9389f284-56ac-431e-835b-3ae54b8b3559",
   "metadata": {},
   "outputs": [
    {
     "name": "stdout",
     "output_type": "stream",
     "text": [
      "Subject 1: Mark = 34\n",
      "Subject 2: Mark = 76\n",
      "Subject 3: Mark = 98\n",
      "Subject 4: Mark = 89\n",
      "Subject 5: Mark = 100\n",
      "Total : 397\n",
      "percentage: 79.4\n"
     ]
    }
   ],
   "source": [
    "data = FunctionClassAssignment.percentage()\n",
    "total, separator, percentage = data\n",
    "print(\"Total :\", total)\n",
    "print(\"percentage:\", percentage)"
   ]
  },
  {
   "cell_type": "code",
   "execution_count": 54,
   "id": "fe9534cd-d14a-423c-becc-f6f2c7eb0142",
   "metadata": {},
   "outputs": [
    {
     "name": "stdin",
     "output_type": "stream",
     "text": [
      "Height: 23\n",
      "Breadth: 23\n"
     ]
    },
    {
     "name": "stdout",
     "output_type": "stream",
     "text": [
      "Area formula:(height*breadth)/2\n",
      "Area of Triangle: 264.5\n",
      "Height1: 23\n",
      "Height2 23\n",
      "Breadth 23\n",
      "Perimeter formula: Height1+Height2+Breadth\n",
      "Perimeter of Triangle: 69\n"
     ]
    }
   ],
   "source": [
    "FunctionClassAssignment.traingale()"
   ]
  },
  {
   "cell_type": "code",
   "execution_count": null,
   "id": "aaff3eff-fd10-43c8-a3da-4b7cc486a888",
   "metadata": {},
   "outputs": [],
   "source": []
  }
 ],
 "metadata": {
  "kernelspec": {
   "display_name": "Python 3 (ipykernel)",
   "language": "python",
   "name": "python3"
  },
  "language_info": {
   "codemirror_mode": {
    "name": "ipython",
    "version": 3
   },
   "file_extension": ".py",
   "mimetype": "text/x-python",
   "name": "python",
   "nbconvert_exporter": "python",
   "pygments_lexer": "ipython3",
   "version": "3.12.7"
  }
 },
 "nbformat": 4,
 "nbformat_minor": 5
}
