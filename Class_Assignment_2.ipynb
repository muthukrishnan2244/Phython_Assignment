{
 "cells": [
  {
   "cell_type": "code",
   "execution_count": 1,
   "id": "78fe23c3-b9c5-4724-8087-9c1227b7ff03",
   "metadata": {},
   "outputs": [],
   "source": [
    "from Class_Assignment_2 import FunctionClassAssignment"
   ]
  },
  {
   "cell_type": "code",
   "execution_count": 2,
   "id": "ce70aa62-6f56-4c39-8ccd-7d37284d80ff",
   "metadata": {},
   "outputs": [
    {
     "name": "stdin",
     "output_type": "stream",
     "text": [
      "Height: 223\n",
      "Breadth: 1221\n"
     ]
    },
    {
     "name": "stdout",
     "output_type": "stream",
     "text": [
      "Area formula:(height*breadth)/2\n",
      "Area of Triangle: 136141.5\n",
      "Height1: 223\n",
      "Height2 223\n",
      "Breadth 1221\n",
      "Perimeter formula: Height1+Height2+Breadth\n",
      "Perimeter of Triangle: 1667\n"
     ]
    }
   ],
   "source": [
    "FunctionClassAssignment.traingale()"
   ]
  },
  {
   "cell_type": "code",
   "execution_count": 3,
   "id": "81bba915-a2c0-4c0a-a343-0b7d8f386528",
   "metadata": {},
   "outputs": [
    {
     "name": "stdout",
     "output_type": "stream",
     "text": [
      "Sub-fields in AI are:\n",
      "Machine Learning\n",
      "Neural Networks\n",
      "Vision\n",
      "Robotics\n",
      "Speech Processing\n",
      "Natural Language Processing\n"
     ]
    }
   ],
   "source": [
    "FunctionClassAssignment.subFields()"
   ]
  },
  {
   "cell_type": "code",
   "execution_count": 4,
   "id": "b6f9fb79-b79a-438e-8452-1a1a369310c6",
   "metadata": {},
   "outputs": [
    {
     "name": "stdin",
     "output_type": "stream",
     "text": [
      "Enter the number 23\n"
     ]
    },
    {
     "name": "stdout",
     "output_type": "stream",
     "text": [
      "23  is an odd number\n"
     ]
    }
   ],
   "source": [
    "FunctionClassAssignment.oddEven()"
   ]
  },
  {
   "cell_type": "code",
   "execution_count": 5,
   "id": "370c458a-8df8-4bda-827e-7aa9bacb8dca",
   "metadata": {},
   "outputs": [
    {
     "name": "stdin",
     "output_type": "stream",
     "text": [
      "Your age : 23\n",
      "Your Gender : \n"
     ]
    },
    {
     "name": "stdout",
     "output_type": "stream",
     "text": [
      "ELIGEABLE \n"
     ]
    }
   ],
   "source": [
    "FunctionClassAssignment.elegible()"
   ]
  },
  {
   "cell_type": "code",
   "execution_count": 7,
   "id": "cb9b14db-e2c2-4323-88e0-92581ca40bcd",
   "metadata": {},
   "outputs": [
    {
     "name": "stdout",
     "output_type": "stream",
     "text": [
      "Subject 1: Mark = 34\n",
      "Subject 2: Mark = 76\n",
      "Subject 3: Mark = 98\n",
      "Subject 4: Mark = 89\n",
      "Subject 5: Mark = 100\n",
      "Total : 397\n",
      "percentage: 79.4\n"
     ]
    }
   ],
   "source": [
    "data = FunctionClassAssignment.percentage()\n",
    "total, separator, percentage = data\n",
    "print(\"Total :\", total)\n",
    "print(\"percentage:\", percentage)"
   ]
  },
  {
   "cell_type": "code",
   "execution_count": null,
   "id": "75f1f9d5-5ddd-404c-b095-a9d65a91567e",
   "metadata": {},
   "outputs": [],
   "source": []
  }
 ],
 "metadata": {
  "kernelspec": {
   "display_name": "Python 3 (ipykernel)",
   "language": "python",
   "name": "python3"
  },
  "language_info": {
   "codemirror_mode": {
    "name": "ipython",
    "version": 3
   },
   "file_extension": ".py",
   "mimetype": "text/x-python",
   "name": "python",
   "nbconvert_exporter": "python",
   "pygments_lexer": "ipython3",
   "version": "3.12.7"
  }
 },
 "nbformat": 4,
 "nbformat_minor": 5
}
