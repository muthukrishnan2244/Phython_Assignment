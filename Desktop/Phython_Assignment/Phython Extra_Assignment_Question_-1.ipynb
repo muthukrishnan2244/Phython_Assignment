{
 "cells": [
  {
   "cell_type": "code",
   "execution_count": 1,
   "id": "b19a406f-e0f6-4897-8d5a-b3dc967d2e4f",
   "metadata": {},
   "outputs": [
    {
     "name": "stdout",
     "output_type": "stream",
     "text": [
      "HOPE AI\n"
     ]
    }
   ],
   "source": [
    "print(\"HOPE AI\")"
   ]
  },
  {
   "cell_type": "code",
   "execution_count": 2,
   "id": "fb242ac9-2e79-4ed6-bf23-c32ba389ed7f",
   "metadata": {},
   "outputs": [
    {
     "name": "stdin",
     "output_type": "stream",
     "text": [
      "Enter your institute name? : HOPE AI\n"
     ]
    }
   ],
   "source": [
    "INstitutionName = input(\"Enter your institute name? :\")"
   ]
  },
  {
   "cell_type": "code",
   "execution_count": 3,
   "id": "d664079f-a932-48e7-9bf1-e68fce058583",
   "metadata": {},
   "outputs": [
    {
     "name": "stdin",
     "output_type": "stream",
     "text": [
      "Enter your name? : K.MuthuKrishnan\n",
      "Enter your age? : 29\n",
      "Enter your school? : RCM\n",
      "Enter your degree? : MCA\n"
     ]
    }
   ],
   "source": [
    "name = input(\"Enter your name? :\")\n",
    "age = input(\"Enter your age? :\")\n",
    "school = input(\"Enter your school? :\")\n",
    "degree = input(\"Enter your degree? :\")"
   ]
  },
  {
   "cell_type": "code",
   "execution_count": 6,
   "id": "9e8cab2a-ea3f-4797-9401-9a8857d33ec0",
   "metadata": {},
   "outputs": [
    {
     "name": "stdout",
     "output_type": "stream",
     "text": [
      "a= 43\n",
      "b= 34\n",
      "add= 77\n"
     ]
    }
   ],
   "source": [
    "a = 43\n",
    "b = 34\n",
    "add = a+b\n",
    "print(\"a=\",a)\n",
    "print(\"b=\",b)\n",
    "print(\"add=\",add)"
   ]
  },
  {
   "cell_type": "code",
   "execution_count": 7,
   "id": "5fe0705b-567a-4e7a-bfc5-767be9b4b3a6",
   "metadata": {},
   "outputs": [
    {
     "name": "stdout",
     "output_type": "stream",
     "text": [
      "a= 43\n",
      "b= 34\n",
      "sub= 9\n"
     ]
    }
   ],
   "source": [
    "a = 43\n",
    "b = 34\n",
    "add = a-b\n",
    "print(\"a=\",a)\n",
    "print(\"b=\",b)\n",
    "print(\"sub=\",add)"
   ]
  },
  {
   "cell_type": "code",
   "execution_count": 8,
   "id": "1333ebce-5732-4fce-90c6-d6253aa68c27",
   "metadata": {},
   "outputs": [
    {
     "name": "stdout",
     "output_type": "stream",
     "text": [
      "a= 43\n",
      "b= 34\n",
      "mul= 1462\n"
     ]
    }
   ],
   "source": [
    "a = 43\n",
    "b = 34\n",
    "add = a*b\n",
    "print(\"a=\",a)\n",
    "print(\"b=\",b)\n",
    "print(\"mul=\",add)"
   ]
  },
  {
   "cell_type": "code",
   "execution_count": 9,
   "id": "0bfea919-6a7d-4b68-b2db-b9e9ac260085",
   "metadata": {},
   "outputs": [
    {
     "name": "stdout",
     "output_type": "stream",
     "text": [
      "a= 43\n",
      "b= 34\n",
      "Float Div= 1.2647058823529411\n"
     ]
    }
   ],
   "source": [
    "a = 43\n",
    "b = 34\n",
    "add = a/b\n",
    "print(\"a=\",a)\n",
    "print(\"b=\",b)\n",
    "print(\"Float Div=\",add)"
   ]
  },
  {
   "cell_type": "code",
   "execution_count": 13,
   "id": "1ead4d0b-89ff-4c6f-9e4c-804df053d9dd",
   "metadata": {},
   "outputs": [
    {
     "name": "stdout",
     "output_type": "stream",
     "text": [
      "a= 43\n",
      "b= 34\n",
      "Floor Divison= 1\n"
     ]
    }
   ],
   "source": [
    "a = 43\n",
    "b = 34\n",
    "add = a//b\n",
    "print(\"a=\",a)\n",
    "print(\"b=\",b)\n",
    "print(\"Floor Divison=\",add)"
   ]
  },
  {
   "cell_type": "code",
   "execution_count": 15,
   "id": "21a92e12-6f2b-4c30-a448-cceaf97b8d86",
   "metadata": {},
   "outputs": [
    {
     "name": "stdout",
     "output_type": "stream",
     "text": [
      "a= 43\n",
      "b= 34\n",
      "Power= 9\n"
     ]
    }
   ],
   "source": [
    "a = 43\n",
    "b = 34\n",
    "add = a^b\n",
    "print(\"a=\",a)\n",
    "print(\"b=\",b)\n",
    "print(\"Power=\",add)"
   ]
  },
  {
   "cell_type": "code",
   "execution_count": null,
   "id": "3667c6c4-dcbe-4ade-8cf4-383a0e31a3f7",
   "metadata": {},
   "outputs": [],
   "source": []
  }
 ],
 "metadata": {
  "kernelspec": {
   "display_name": "Python 3 (ipykernel)",
   "language": "python",
   "name": "python3"
  },
  "language_info": {
   "codemirror_mode": {
    "name": "ipython",
    "version": 3
   },
   "file_extension": ".py",
   "mimetype": "text/x-python",
   "name": "python",
   "nbconvert_exporter": "python",
   "pygments_lexer": "ipython3",
   "version": "3.12.7"
  }
 },
 "nbformat": 4,
 "nbformat_minor": 5
}
