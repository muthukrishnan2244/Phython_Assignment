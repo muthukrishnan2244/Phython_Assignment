{
 "cells": [
  {
   "cell_type": "code",
   "execution_count": 1,
   "id": "5dda9eca-f9a3-404e-b0db-c9186d89f5eb",
   "metadata": {},
   "outputs": [
    {
     "name": "stdout",
     "output_type": "stream",
     "text": [
      " Welcome to Assignment-1\n"
     ]
    }
   ],
   "source": [
    "print(\" Welcome to Assignment-1\")"
   ]
  },
  {
   "cell_type": "code",
   "execution_count": 18,
   "id": "1c8a3f4c-bf2d-4c9a-8f9c-6618617a2ba1",
   "metadata": {},
   "outputs": [
    {
     "name": "stdout",
     "output_type": "stream",
     "text": [
      "Num1=  10\n",
      "Num2=  20\n",
      "Add=  30\n"
     ]
    }
   ],
   "source": [
    "Num1= int(10)\n",
    "Num2= int(20)\n",
    "Add= Num1+Num2\n",
    "\n",
    "print(\"Num1= \",Num1)\n",
    "print(\"Num2= \",Num2)\n",
    "print(\"Add= \",Add)"
   ]
  },
  {
   "cell_type": "code",
   "execution_count": 25,
   "id": "777f6368-4055-467f-a9da-efda7d68bd2d",
   "metadata": {},
   "outputs": [
    {
     "name": "stdin",
     "output_type": "stream",
     "text": [
      "Enter the BMI:  23\n"
     ]
    },
    {
     "name": "stdout",
     "output_type": "stream",
     "text": [
      "Healthy Weight\n"
     ]
    }
   ],
   "source": [
    "bmi = int(input(\"Enter the BMI: \"))\n",
    "if(bmi<18):\n",
    "    print(\"UnderWeight\")\n",
    "elif(bmi<18.5):\n",
    "    print(\"thin for height\")\n",
    "elif(bmi<24.9):\n",
    "    print(\"Healthy Weight\")\n",
    "elif(bmi<29.9):\n",
    "    print(\"OverWeight\")\n",
    "else:\n",
    "    print(\"Obesity\")"
   ]
  },
  {
   "cell_type": "code",
   "execution_count": null,
   "id": "bbae853c-dbbb-4c3d-9090-869f31faeca7",
   "metadata": {},
   "outputs": [],
   "source": []
  }
 ],
 "metadata": {
  "kernelspec": {
   "display_name": "Python 3 (ipykernel)",
   "language": "python",
   "name": "python3"
  },
  "language_info": {
   "codemirror_mode": {
    "name": "ipython",
    "version": 3
   },
   "file_extension": ".py",
   "mimetype": "text/x-python",
   "name": "python",
   "nbconvert_exporter": "python",
   "pygments_lexer": "ipython3",
   "version": "3.12.7"
  }
 },
 "nbformat": 4,
 "nbformat_minor": 5
}
