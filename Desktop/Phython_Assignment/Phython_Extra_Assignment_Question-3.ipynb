{
 "cells": [
  {
   "cell_type": "code",
   "execution_count": 2,
   "id": "e31c61ed-c7cb-4796-9cc5-2e8f6b35cc68",
   "metadata": {},
   "outputs": [
    {
     "name": "stdout",
     "output_type": "stream",
     "text": [
      "Correct\n"
     ]
    }
   ],
   "source": [
    "value = 10\n",
    "if(value == 10):\n",
    "    print(\"Correct\")"
   ]
  },
  {
   "cell_type": "code",
   "execution_count": 4,
   "id": "274f0f2e-d4d8-4732-90eb-ddf3ccaa0eaa",
   "metadata": {},
   "outputs": [
    {
     "name": "stdin",
     "output_type": "stream",
     "text": [
      "Enter the password : HOPE@123\n"
     ]
    },
    {
     "name": "stdout",
     "output_type": "stream",
     "text": [
      "Your password is correct \n"
     ]
    }
   ],
   "source": [
    "credientials = input(\"Enter the password :\")\n",
    "if(credientials == 'HOPE@123'):\n",
    "    print(\"Your password is correct \")\n",
    "else:\n",
    "    print(\"Your password is not correct \")"
   ]
  },
  {
   "cell_type": "code",
   "execution_count": 9,
   "id": "a6e433d9-02e0-4303-bb20-0e47cc879e49",
   "metadata": {},
   "outputs": [
    {
     "name": "stdin",
     "output_type": "stream",
     "text": [
      "Enter the number : 23\n"
     ]
    },
    {
     "name": "stdout",
     "output_type": "stream",
     "text": [
      "age : 23\n",
      "Adult\n"
     ]
    }
   ],
   "source": [
    "age = int(input(\"Enter the number :\"))\n",
    "if(age < 17):\n",
    "    print(\"age :\",age)\n",
    "    print(\"Children\")\n",
    "elif(age < 30):\n",
    "    print(\"age :\",age)\n",
    "    print(\"Adult\")\n",
    "else:\n",
    "    print(\"age :\",age)\n",
    "    print(\"Citizen\")"
   ]
  },
  {
   "cell_type": "code",
   "execution_count": 11,
   "id": "ff999d8f-434f-41df-9647-7a94e53cb098",
   "metadata": {},
   "outputs": [
    {
     "name": "stdin",
     "output_type": "stream",
     "text": [
      "Enter the number: 1\n"
     ]
    },
    {
     "name": "stdout",
     "output_type": "stream",
     "text": [
      "Enter any number:\n",
      "Yes is positie\n"
     ]
    }
   ],
   "source": [
    "num = int(input(\"Enter the number:\"))\n",
    "if(num < 0):\n",
    "    print(\"Enter any number:\")\n",
    "    print(\"No is negative\")\n",
    "else:\n",
    "    print(\"Enter any number:\")\n",
    "    print(\"Yes is positie\")\n",
    "   "
   ]
  },
  {
   "cell_type": "code",
   "execution_count": 14,
   "id": "93d2d8c6-110f-45e1-b920-f44852d5231e",
   "metadata": {},
   "outputs": [
    {
     "name": "stdin",
     "output_type": "stream",
     "text": [
      "Enter the number: 35\n"
     ]
    },
    {
     "name": "stdout",
     "output_type": "stream",
     "text": [
      "Enter a number to check: 35\n",
      "Yes is not divisble by 5.\n"
     ]
    }
   ],
   "source": [
    "num = int(input(\"Enter the number:\"))\n",
    "if(num % 5 == 5):\n",
    "    print(\"Enter a number to check:\", num)\n",
    "    print(\"No is not divisble by 5.\")\n",
    "else:\n",
    "    print(\"Enter a number to check:\", num)\n",
    "    print(\"Yes is not divisble by 5.\")"
   ]
  },
  {
   "cell_type": "code",
   "execution_count": null,
   "id": "33bdf32d-6540-4311-8c73-e726e205a859",
   "metadata": {},
   "outputs": [],
   "source": [
    "    "
   ]
  }
 ],
 "metadata": {
  "kernelspec": {
   "display_name": "Python 3 (ipykernel)",
   "language": "python",
   "name": "python3"
  },
  "language_info": {
   "codemirror_mode": {
    "name": "ipython",
    "version": 3
   },
   "file_extension": ".py",
   "mimetype": "text/x-python",
   "name": "python",
   "nbconvert_exporter": "python",
   "pygments_lexer": "ipython3",
   "version": "3.12.7"
  }
 },
 "nbformat": 4,
 "nbformat_minor": 5
}
